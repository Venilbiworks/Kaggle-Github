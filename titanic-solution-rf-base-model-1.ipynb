{
 "cells": [
  {
   "cell_type": "code",
   "execution_count": 1,
   "metadata": {
    "_cell_guid": "b1076dfc-b9ad-4769-8c92-a6c4dae69d19",
    "_uuid": "8f2839f25d086af736a60e9eeb907d3b93b6e0e5",
    "execution": {
     "iopub.execute_input": "2021-09-11T05:41:38.780651Z",
     "iopub.status.busy": "2021-09-11T05:41:38.779929Z",
     "iopub.status.idle": "2021-09-11T05:41:38.787616Z",
     "shell.execute_reply": "2021-09-11T05:41:38.788272Z",
     "shell.execute_reply.started": "2021-09-11T05:41:08.825180Z"
    },
    "papermill": {
     "duration": 0.033061,
     "end_time": "2021-09-11T05:41:38.788602",
     "exception": false,
     "start_time": "2021-09-11T05:41:38.755541",
     "status": "completed"
    },
    "tags": []
   },
   "outputs": [
    {
     "name": "stdout",
     "output_type": "stream",
     "text": [
      "/kaggle/input/titanic/train.csv\n",
      "/kaggle/input/titanic/test.csv\n",
      "/kaggle/input/titanic/gender_submission.csv\n"
     ]
    }
   ],
   "source": [
    "# This Python 3 environment comes with many helpful analytics libraries installed\n",
    "# It is defined by the kaggle/python Docker image: https://github.com/kaggle/docker-python\n",
    "# For example, here's several helpful packages to load\n",
    "\n",
    "import numpy as np # linear algebra\n",
    "import pandas as pd # data processing, CSV file I/O (e.g. pd.read_csv)\n",
    "\n",
    "# Input data files are available in the read-only \"../input/\" directory\n",
    "# For example, running this (by clicking run or pressing Shift+Enter) will list all files under the input directory\n",
    "\n",
    "import os\n",
    "for dirname, _, filenames in os.walk('/kaggle/input'):\n",
    "    for filename in filenames:\n",
    "        print(os.path.join(dirname, filename))\n",
    "\n",
    "# You can write up to 20GB to the current directory (/kaggle/working/) that gets preserved as output when you create a version using \"Save & Run All\" \n",
    "# You can also write temporary files to /kaggle/temp/, but they won't be saved outside of the current session"
   ]
  },
  {
   "cell_type": "markdown",
   "metadata": {
    "papermill": {
     "duration": 0.020062,
     "end_time": "2021-09-11T05:41:38.829482",
     "exception": false,
     "start_time": "2021-09-11T05:41:38.809420",
     "status": "completed"
    },
    "tags": []
   },
   "source": [
    "New version"
   ]
  },
  {
   "cell_type": "code",
   "execution_count": 2,
   "metadata": {
    "execution": {
     "iopub.execute_input": "2021-09-11T05:41:38.875418Z",
     "iopub.status.busy": "2021-09-11T05:41:38.874241Z",
     "iopub.status.idle": "2021-09-11T05:41:38.907129Z",
     "shell.execute_reply": "2021-09-11T05:41:38.906478Z",
     "shell.execute_reply.started": "2021-09-11T05:41:08.929934Z"
    },
    "papermill": {
     "duration": 0.057212,
     "end_time": "2021-09-11T05:41:38.907276",
     "exception": false,
     "start_time": "2021-09-11T05:41:38.850064",
     "status": "completed"
    },
    "tags": []
   },
   "outputs": [],
   "source": [
    "#Import \n",
    "train = pd.read_csv('/kaggle/input/titanic/train.csv')\n",
    "test = pd.read_csv('/kaggle/input/titanic/test.csv')"
   ]
  },
  {
   "cell_type": "code",
   "execution_count": 3,
   "metadata": {
    "execution": {
     "iopub.execute_input": "2021-09-11T05:41:38.953363Z",
     "iopub.status.busy": "2021-09-11T05:41:38.952665Z",
     "iopub.status.idle": "2021-09-11T05:41:38.971257Z",
     "shell.execute_reply": "2021-09-11T05:41:38.970662Z",
     "shell.execute_reply.started": "2021-09-11T05:41:08.961474Z"
    },
    "papermill": {
     "duration": 0.043322,
     "end_time": "2021-09-11T05:41:38.971403",
     "exception": false,
     "start_time": "2021-09-11T05:41:38.928081",
     "status": "completed"
    },
    "tags": []
   },
   "outputs": [
    {
     "data": {
      "text/plain": [
       "PassengerId      0\n",
       "Survived         0\n",
       "Pclass           0\n",
       "Name             0\n",
       "Sex              0\n",
       "Age            177\n",
       "SibSp            0\n",
       "Parch            0\n",
       "Ticket           0\n",
       "Fare             0\n",
       "Cabin          687\n",
       "Embarked         2\n",
       "dtype: int64"
      ]
     },
     "execution_count": 3,
     "metadata": {},
     "output_type": "execute_result"
    }
   ],
   "source": [
    "#Check train\n",
    "train.isnull().sum()"
   ]
  },
  {
   "cell_type": "code",
   "execution_count": 4,
   "metadata": {
    "execution": {
     "iopub.execute_input": "2021-09-11T05:41:39.018345Z",
     "iopub.status.busy": "2021-09-11T05:41:39.017678Z",
     "iopub.status.idle": "2021-09-11T05:41:39.026691Z",
     "shell.execute_reply": "2021-09-11T05:41:39.025989Z",
     "shell.execute_reply.started": "2021-09-11T05:41:10.493912Z"
    },
    "papermill": {
     "duration": 0.03433,
     "end_time": "2021-09-11T05:41:39.026843",
     "exception": false,
     "start_time": "2021-09-11T05:41:38.992513",
     "status": "completed"
    },
    "tags": []
   },
   "outputs": [
    {
     "data": {
      "text/plain": [
       "PassengerId      0\n",
       "Pclass           0\n",
       "Name             0\n",
       "Sex              0\n",
       "Age             86\n",
       "SibSp            0\n",
       "Parch            0\n",
       "Ticket           0\n",
       "Fare             1\n",
       "Cabin          327\n",
       "Embarked         0\n",
       "dtype: int64"
      ]
     },
     "execution_count": 4,
     "metadata": {},
     "output_type": "execute_result"
    }
   ],
   "source": [
    "#Check test\n",
    "test.isnull().sum()"
   ]
  },
  {
   "cell_type": "code",
   "execution_count": 5,
   "metadata": {
    "execution": {
     "iopub.execute_input": "2021-09-11T05:41:39.075291Z",
     "iopub.status.busy": "2021-09-11T05:41:39.074460Z",
     "iopub.status.idle": "2021-09-11T05:41:40.257566Z",
     "shell.execute_reply": "2021-09-11T05:41:40.256737Z",
     "shell.execute_reply.started": "2021-09-11T05:41:10.543945Z"
    },
    "papermill": {
     "duration": 1.209614,
     "end_time": "2021-09-11T05:41:40.257727",
     "exception": false,
     "start_time": "2021-09-11T05:41:39.048113",
     "status": "completed"
    },
    "tags": []
   },
   "outputs": [],
   "source": [
    "from sklearn.pipeline import make_pipeline\n",
    "from sklearn.compose import make_column_transformer\n",
    "\n",
    "from sklearn.impute import SimpleImputer\n",
    "from sklearn.preprocessing import KBinsDiscretizer, OneHotEncoder\n",
    "\n",
    "from sklearn.linear_model import LogisticRegression\n",
    "\n",
    "from sklearn.model_selection import cross_val_score"
   ]
  },
  {
   "cell_type": "markdown",
   "metadata": {
    "papermill": {
     "duration": 0.020744,
     "end_time": "2021-09-11T05:41:40.301537",
     "exception": false,
     "start_time": "2021-09-11T05:41:40.280793",
     "status": "completed"
    },
    "tags": []
   },
   "source": [
    "# Feature Engineering"
   ]
  },
  {
   "cell_type": "code",
   "execution_count": 6,
   "metadata": {
    "execution": {
     "iopub.execute_input": "2021-09-11T05:41:40.349053Z",
     "iopub.status.busy": "2021-09-11T05:41:40.348014Z",
     "iopub.status.idle": "2021-09-11T05:41:40.351396Z",
     "shell.execute_reply": "2021-09-11T05:41:40.350749Z",
     "shell.execute_reply.started": "2021-09-11T05:41:11.857037Z"
    },
    "papermill": {
     "duration": 0.029035,
     "end_time": "2021-09-11T05:41:40.351552",
     "exception": false,
     "start_time": "2021-09-11T05:41:40.322517",
     "status": "completed"
    },
    "tags": []
   },
   "outputs": [],
   "source": [
    "full_data = [train, test]"
   ]
  },
  {
   "cell_type": "code",
   "execution_count": 7,
   "metadata": {
    "execution": {
     "iopub.execute_input": "2021-09-11T05:41:40.482361Z",
     "iopub.status.busy": "2021-09-11T05:41:40.481465Z",
     "iopub.status.idle": "2021-09-11T05:41:40.508385Z",
     "shell.execute_reply": "2021-09-11T05:41:40.506841Z",
     "shell.execute_reply.started": "2021-09-11T05:41:11.863269Z"
    },
    "papermill": {
     "duration": 0.136005,
     "end_time": "2021-09-11T05:41:40.508566",
     "exception": false,
     "start_time": "2021-09-11T05:41:40.372561",
     "status": "completed"
    },
    "tags": []
   },
   "outputs": [],
   "source": [
    "for dataset in full_data:\n",
    "    dataset['FamilySize'] = dataset['SibSp'] + dataset['Parch'] + 1\n",
    "    \n",
    "# Create new feature IsAlone from FamilySize\n",
    "for dataset in full_data:\n",
    "    dataset['IsAlone'] = 0\n",
    "    dataset.loc[dataset['FamilySize'] == 1, 'IsAlone'] = 1\n",
    "    \n",
    "# Remove all NULLS in the Embarked column\n",
    "for dataset in full_data:\n",
    "    dataset['Embarked'] = dataset['Embarked'].fillna('S')"
   ]
  },
  {
   "cell_type": "code",
   "execution_count": 8,
   "metadata": {
    "execution": {
     "iopub.execute_input": "2021-09-11T05:41:40.557000Z",
     "iopub.status.busy": "2021-09-11T05:41:40.556001Z",
     "iopub.status.idle": "2021-09-11T05:41:40.558422Z",
     "shell.execute_reply": "2021-09-11T05:41:40.558972Z",
     "shell.execute_reply.started": "2021-09-11T05:41:11.981298Z"
    },
    "papermill": {
     "duration": 0.029248,
     "end_time": "2021-09-11T05:41:40.559152",
     "exception": false,
     "start_time": "2021-09-11T05:41:40.529904",
     "status": "completed"
    },
    "tags": []
   },
   "outputs": [],
   "source": [
    "import re"
   ]
  },
  {
   "cell_type": "code",
   "execution_count": 9,
   "metadata": {
    "execution": {
     "iopub.execute_input": "2021-09-11T05:41:40.614350Z",
     "iopub.status.busy": "2021-09-11T05:41:40.613529Z",
     "iopub.status.idle": "2021-09-11T05:41:40.616827Z",
     "shell.execute_reply": "2021-09-11T05:41:40.616183Z",
     "shell.execute_reply.started": "2021-09-11T05:41:11.988484Z"
    },
    "papermill": {
     "duration": 0.035394,
     "end_time": "2021-09-11T05:41:40.616995",
     "exception": false,
     "start_time": "2021-09-11T05:41:40.581601",
     "status": "completed"
    },
    "tags": []
   },
   "outputs": [],
   "source": [
    "def get_title(name):\n",
    "    title_search = re.search(' ([A-Za-z]+)\\.', name)\n",
    "    # If the title exists, extract and return it.\n",
    "    if title_search:\n",
    "        return title_search.group(1)\n",
    "    return \"\"\n",
    "\n",
    "# Create a new feature Title, containing the titles of passenger names\n",
    "for dataset in full_data:\n",
    "    dataset['Title'] = dataset['Name'].apply(get_title)"
   ]
  },
  {
   "cell_type": "code",
   "execution_count": 10,
   "metadata": {
    "execution": {
     "iopub.execute_input": "2021-09-11T05:41:40.676395Z",
     "iopub.status.busy": "2021-09-11T05:41:40.675392Z",
     "iopub.status.idle": "2021-09-11T05:41:40.678612Z",
     "shell.execute_reply": "2021-09-11T05:41:40.677973Z",
     "shell.execute_reply.started": "2021-09-11T05:41:12.006144Z"
    },
    "papermill": {
     "duration": 0.040384,
     "end_time": "2021-09-11T05:41:40.678758",
     "exception": false,
     "start_time": "2021-09-11T05:41:40.638374",
     "status": "completed"
    },
    "tags": []
   },
   "outputs": [],
   "source": [
    "for dataset in full_data:\n",
    "    dataset['Title'] = dataset['Title'].replace(['Lady', 'Countess','Capt', 'Col','Don', 'Dr', 'Major', 'Rev', 'Sir', 'Jonkheer', 'Dona'], 'Rare')\n",
    "\n",
    "dataset['Title'] = dataset['Title'].replace('Mlle', 'Miss')\n",
    "dataset['Title'] = dataset['Title'].replace('Ms', 'Miss')\n",
    "dataset['Title'] = dataset['Title'].replace('Mme', 'Mrs')"
   ]
  },
  {
   "cell_type": "code",
   "execution_count": 11,
   "metadata": {
    "execution": {
     "iopub.execute_input": "2021-09-11T05:41:40.730747Z",
     "iopub.status.busy": "2021-09-11T05:41:40.730001Z",
     "iopub.status.idle": "2021-09-11T05:41:40.732425Z",
     "shell.execute_reply": "2021-09-11T05:41:40.732909Z",
     "shell.execute_reply.started": "2021-09-11T05:41:12.033737Z"
    },
    "papermill": {
     "duration": 0.032913,
     "end_time": "2021-09-11T05:41:40.733096",
     "exception": false,
     "start_time": "2021-09-11T05:41:40.700183",
     "status": "completed"
    },
    "tags": []
   },
   "outputs": [],
   "source": [
    "for dataset in full_data:\n",
    "    dataset['Cabin'] = dataset['Cabin'].astype(str).str[0]"
   ]
  },
  {
   "cell_type": "code",
   "execution_count": 12,
   "metadata": {
    "execution": {
     "iopub.execute_input": "2021-09-11T05:41:40.781825Z",
     "iopub.status.busy": "2021-09-11T05:41:40.781091Z",
     "iopub.status.idle": "2021-09-11T05:41:40.805871Z",
     "shell.execute_reply": "2021-09-11T05:41:40.805264Z",
     "shell.execute_reply.started": "2021-09-11T05:41:12.050796Z"
    },
    "papermill": {
     "duration": 0.051854,
     "end_time": "2021-09-11T05:41:40.806044",
     "exception": false,
     "start_time": "2021-09-11T05:41:40.754190",
     "status": "completed"
    },
    "tags": []
   },
   "outputs": [
    {
     "data": {
      "text/html": [
       "<div>\n",
       "<style scoped>\n",
       "    .dataframe tbody tr th:only-of-type {\n",
       "        vertical-align: middle;\n",
       "    }\n",
       "\n",
       "    .dataframe tbody tr th {\n",
       "        vertical-align: top;\n",
       "    }\n",
       "\n",
       "    .dataframe thead th {\n",
       "        text-align: right;\n",
       "    }\n",
       "</style>\n",
       "<table border=\"1\" class=\"dataframe\">\n",
       "  <thead>\n",
       "    <tr style=\"text-align: right;\">\n",
       "      <th></th>\n",
       "      <th>PassengerId</th>\n",
       "      <th>Survived</th>\n",
       "      <th>Pclass</th>\n",
       "      <th>Name</th>\n",
       "      <th>Sex</th>\n",
       "      <th>Age</th>\n",
       "      <th>SibSp</th>\n",
       "      <th>Parch</th>\n",
       "      <th>Ticket</th>\n",
       "      <th>Fare</th>\n",
       "      <th>Cabin</th>\n",
       "      <th>Embarked</th>\n",
       "      <th>FamilySize</th>\n",
       "      <th>IsAlone</th>\n",
       "      <th>Title</th>\n",
       "    </tr>\n",
       "  </thead>\n",
       "  <tbody>\n",
       "    <tr>\n",
       "      <th>0</th>\n",
       "      <td>1</td>\n",
       "      <td>0</td>\n",
       "      <td>3</td>\n",
       "      <td>Braund, Mr. Owen Harris</td>\n",
       "      <td>male</td>\n",
       "      <td>22.0</td>\n",
       "      <td>1</td>\n",
       "      <td>0</td>\n",
       "      <td>A/5 21171</td>\n",
       "      <td>7.2500</td>\n",
       "      <td>n</td>\n",
       "      <td>S</td>\n",
       "      <td>2</td>\n",
       "      <td>0</td>\n",
       "      <td>Mr</td>\n",
       "    </tr>\n",
       "    <tr>\n",
       "      <th>1</th>\n",
       "      <td>2</td>\n",
       "      <td>1</td>\n",
       "      <td>1</td>\n",
       "      <td>Cumings, Mrs. John Bradley (Florence Briggs Th...</td>\n",
       "      <td>female</td>\n",
       "      <td>38.0</td>\n",
       "      <td>1</td>\n",
       "      <td>0</td>\n",
       "      <td>PC 17599</td>\n",
       "      <td>71.2833</td>\n",
       "      <td>C</td>\n",
       "      <td>C</td>\n",
       "      <td>2</td>\n",
       "      <td>0</td>\n",
       "      <td>Mrs</td>\n",
       "    </tr>\n",
       "    <tr>\n",
       "      <th>2</th>\n",
       "      <td>3</td>\n",
       "      <td>1</td>\n",
       "      <td>3</td>\n",
       "      <td>Heikkinen, Miss. Laina</td>\n",
       "      <td>female</td>\n",
       "      <td>26.0</td>\n",
       "      <td>0</td>\n",
       "      <td>0</td>\n",
       "      <td>STON/O2. 3101282</td>\n",
       "      <td>7.9250</td>\n",
       "      <td>n</td>\n",
       "      <td>S</td>\n",
       "      <td>1</td>\n",
       "      <td>1</td>\n",
       "      <td>Miss</td>\n",
       "    </tr>\n",
       "    <tr>\n",
       "      <th>3</th>\n",
       "      <td>4</td>\n",
       "      <td>1</td>\n",
       "      <td>1</td>\n",
       "      <td>Futrelle, Mrs. Jacques Heath (Lily May Peel)</td>\n",
       "      <td>female</td>\n",
       "      <td>35.0</td>\n",
       "      <td>1</td>\n",
       "      <td>0</td>\n",
       "      <td>113803</td>\n",
       "      <td>53.1000</td>\n",
       "      <td>C</td>\n",
       "      <td>S</td>\n",
       "      <td>2</td>\n",
       "      <td>0</td>\n",
       "      <td>Mrs</td>\n",
       "    </tr>\n",
       "    <tr>\n",
       "      <th>4</th>\n",
       "      <td>5</td>\n",
       "      <td>0</td>\n",
       "      <td>3</td>\n",
       "      <td>Allen, Mr. William Henry</td>\n",
       "      <td>male</td>\n",
       "      <td>35.0</td>\n",
       "      <td>0</td>\n",
       "      <td>0</td>\n",
       "      <td>373450</td>\n",
       "      <td>8.0500</td>\n",
       "      <td>n</td>\n",
       "      <td>S</td>\n",
       "      <td>1</td>\n",
       "      <td>1</td>\n",
       "      <td>Mr</td>\n",
       "    </tr>\n",
       "  </tbody>\n",
       "</table>\n",
       "</div>"
      ],
      "text/plain": [
       "   PassengerId  Survived  Pclass  \\\n",
       "0            1         0       3   \n",
       "1            2         1       1   \n",
       "2            3         1       3   \n",
       "3            4         1       1   \n",
       "4            5         0       3   \n",
       "\n",
       "                                                Name     Sex   Age  SibSp  \\\n",
       "0                            Braund, Mr. Owen Harris    male  22.0      1   \n",
       "1  Cumings, Mrs. John Bradley (Florence Briggs Th...  female  38.0      1   \n",
       "2                             Heikkinen, Miss. Laina  female  26.0      0   \n",
       "3       Futrelle, Mrs. Jacques Heath (Lily May Peel)  female  35.0      1   \n",
       "4                           Allen, Mr. William Henry    male  35.0      0   \n",
       "\n",
       "   Parch            Ticket     Fare Cabin Embarked  FamilySize  IsAlone Title  \n",
       "0      0         A/5 21171   7.2500     n        S           2        0    Mr  \n",
       "1      0          PC 17599  71.2833     C        C           2        0   Mrs  \n",
       "2      0  STON/O2. 3101282   7.9250     n        S           1        1  Miss  \n",
       "3      0            113803  53.1000     C        S           2        0   Mrs  \n",
       "4      0            373450   8.0500     n        S           1        1    Mr  "
      ]
     },
     "execution_count": 12,
     "metadata": {},
     "output_type": "execute_result"
    }
   ],
   "source": [
    "train.head()"
   ]
  },
  {
   "cell_type": "code",
   "execution_count": 13,
   "metadata": {
    "execution": {
     "iopub.execute_input": "2021-09-11T05:41:40.856763Z",
     "iopub.status.busy": "2021-09-11T05:41:40.855778Z",
     "iopub.status.idle": "2021-09-11T05:41:40.859635Z",
     "shell.execute_reply": "2021-09-11T05:41:40.858918Z",
     "shell.execute_reply.started": "2021-09-11T05:41:12.087874Z"
    },
    "papermill": {
     "duration": 0.03197,
     "end_time": "2021-09-11T05:41:40.859786",
     "exception": false,
     "start_time": "2021-09-11T05:41:40.827816",
     "status": "completed"
    },
    "tags": []
   },
   "outputs": [],
   "source": [
    "y = train['Survived']\n",
    "X = train.drop(['Survived','Name','Ticket'], axis = 1)"
   ]
  },
  {
   "cell_type": "code",
   "execution_count": 14,
   "metadata": {
    "execution": {
     "iopub.execute_input": "2021-09-11T05:41:40.911529Z",
     "iopub.status.busy": "2021-09-11T05:41:40.910555Z",
     "iopub.status.idle": "2021-09-11T05:41:40.914141Z",
     "shell.execute_reply": "2021-09-11T05:41:40.913605Z",
     "shell.execute_reply.started": "2021-09-11T05:41:12.097298Z"
    },
    "papermill": {
     "duration": 0.032601,
     "end_time": "2021-09-11T05:41:40.914283",
     "exception": false,
     "start_time": "2021-09-11T05:41:40.881682",
     "status": "completed"
    },
    "tags": []
   },
   "outputs": [],
   "source": [
    "numerical_features = [c for c, dtype in zip(X.columns, X.dtypes)\n",
    "                     if dtype.kind in ['i','f'] and c !='PassengerId']\n",
    "categorical_features = [c for c, dtype in zip(X.columns, X.dtypes)\n",
    "                     if dtype.kind not in ['i','f']]"
   ]
  },
  {
   "cell_type": "code",
   "execution_count": 15,
   "metadata": {
    "execution": {
     "iopub.execute_input": "2021-09-11T05:41:40.962771Z",
     "iopub.status.busy": "2021-09-11T05:41:40.962093Z",
     "iopub.status.idle": "2021-09-11T05:41:40.964880Z",
     "shell.execute_reply": "2021-09-11T05:41:40.965689Z",
     "shell.execute_reply.started": "2021-09-11T05:41:12.110645Z"
    },
    "papermill": {
     "duration": 0.029985,
     "end_time": "2021-09-11T05:41:40.965962",
     "exception": false,
     "start_time": "2021-09-11T05:41:40.935977",
     "status": "completed"
    },
    "tags": []
   },
   "outputs": [
    {
     "data": {
      "text/plain": [
       "['Pclass', 'Age', 'SibSp', 'Parch', 'Fare', 'FamilySize', 'IsAlone']"
      ]
     },
     "execution_count": 15,
     "metadata": {},
     "output_type": "execute_result"
    }
   ],
   "source": [
    "numerical_features"
   ]
  },
  {
   "cell_type": "code",
   "execution_count": 16,
   "metadata": {
    "execution": {
     "iopub.execute_input": "2021-09-11T05:41:41.014051Z",
     "iopub.status.busy": "2021-09-11T05:41:41.013348Z",
     "iopub.status.idle": "2021-09-11T05:41:41.018035Z",
     "shell.execute_reply": "2021-09-11T05:41:41.018532Z",
     "shell.execute_reply.started": "2021-09-11T05:41:12.125610Z"
    },
    "papermill": {
     "duration": 0.03024,
     "end_time": "2021-09-11T05:41:41.018703",
     "exception": false,
     "start_time": "2021-09-11T05:41:40.988463",
     "status": "completed"
    },
    "tags": []
   },
   "outputs": [
    {
     "data": {
      "text/plain": [
       "['Sex', 'Cabin', 'Embarked', 'Title']"
      ]
     },
     "execution_count": 16,
     "metadata": {},
     "output_type": "execute_result"
    }
   ],
   "source": [
    "categorical_features"
   ]
  },
  {
   "cell_type": "code",
   "execution_count": 17,
   "metadata": {
    "execution": {
     "iopub.execute_input": "2021-09-11T05:41:41.067295Z",
     "iopub.status.busy": "2021-09-11T05:41:41.066617Z",
     "iopub.status.idle": "2021-09-11T05:41:41.079202Z",
     "shell.execute_reply": "2021-09-11T05:41:41.078501Z",
     "shell.execute_reply.started": "2021-09-11T05:41:12.139255Z"
    },
    "papermill": {
     "duration": 0.038238,
     "end_time": "2021-09-11T05:41:41.079347",
     "exception": false,
     "start_time": "2021-09-11T05:41:41.041109",
     "status": "completed"
    },
    "tags": []
   },
   "outputs": [],
   "source": [
    "#import train_test_split library\n",
    "from sklearn.model_selection import train_test_split\n",
    "\n",
    "# create train test split\n",
    "X_train, X_val, y_train, y_val = train_test_split( X,  y, test_size=0.3, random_state=0, stratify = y)"
   ]
  },
  {
   "cell_type": "code",
   "execution_count": 18,
   "metadata": {
    "execution": {
     "iopub.execute_input": "2021-09-11T05:41:41.131248Z",
     "iopub.status.busy": "2021-09-11T05:41:41.130248Z",
     "iopub.status.idle": "2021-09-11T05:41:41.133736Z",
     "shell.execute_reply": "2021-09-11T05:41:41.133064Z",
     "shell.execute_reply.started": "2021-09-11T05:41:12.188775Z"
    },
    "papermill": {
     "duration": 0.031848,
     "end_time": "2021-09-11T05:41:41.133883",
     "exception": false,
     "start_time": "2021-09-11T05:41:41.102035",
     "status": "completed"
    },
    "tags": []
   },
   "outputs": [],
   "source": [
    "preprocessor = make_column_transformer(\n",
    "    \n",
    "    (make_pipeline(\n",
    "    SimpleImputer(strategy = 'median')\n",
    "        #,KBinsDiscretizer(n_bins=3)\n",
    "    ), numerical_features),\n",
    "    \n",
    "    (make_pipeline(\n",
    "    SimpleImputer(strategy = 'constant', fill_value = 'missing'),\n",
    "    OneHotEncoder(categories = 'auto', handle_unknown = 'ignore')), categorical_features),\n",
    ")"
   ]
  },
  {
   "cell_type": "code",
   "execution_count": 19,
   "metadata": {
    "execution": {
     "iopub.execute_input": "2021-09-11T05:41:41.183795Z",
     "iopub.status.busy": "2021-09-11T05:41:41.182952Z",
     "iopub.status.idle": "2021-09-11T05:41:41.247702Z",
     "shell.execute_reply": "2021-09-11T05:41:41.247127Z",
     "shell.execute_reply.started": "2021-09-11T05:41:12.248403Z"
    },
    "papermill": {
     "duration": 0.091551,
     "end_time": "2021-09-11T05:41:41.247846",
     "exception": false,
     "start_time": "2021-09-11T05:41:41.156295",
     "status": "completed"
    },
    "tags": []
   },
   "outputs": [],
   "source": [
    "#from sklearn.linear_model import LogisticRegression\n",
    "from sklearn.ensemble import RandomForestClassifier"
   ]
  },
  {
   "cell_type": "code",
   "execution_count": 20,
   "metadata": {
    "execution": {
     "iopub.execute_input": "2021-09-11T05:41:41.299679Z",
     "iopub.status.busy": "2021-09-11T05:41:41.298701Z",
     "iopub.status.idle": "2021-09-11T05:41:41.301908Z",
     "shell.execute_reply": "2021-09-11T05:41:41.302450Z",
     "shell.execute_reply.started": "2021-09-11T05:41:12.321050Z"
    },
    "papermill": {
     "duration": 0.031501,
     "end_time": "2021-09-11T05:41:41.302645",
     "exception": false,
     "start_time": "2021-09-11T05:41:41.271144",
     "status": "completed"
    },
    "tags": []
   },
   "outputs": [],
   "source": [
    "model_pipeline = make_pipeline(preprocessor,RandomForestClassifier(n_estimators = 200) )"
   ]
  },
  {
   "cell_type": "code",
   "execution_count": 21,
   "metadata": {
    "execution": {
     "iopub.execute_input": "2021-09-11T05:41:41.370738Z",
     "iopub.status.busy": "2021-09-11T05:41:41.370051Z",
     "iopub.status.idle": "2021-09-11T05:41:41.876172Z",
     "shell.execute_reply": "2021-09-11T05:41:41.875087Z",
     "shell.execute_reply.started": "2021-09-11T05:41:12.327369Z"
    },
    "papermill": {
     "duration": 0.549216,
     "end_time": "2021-09-11T05:41:41.876349",
     "exception": false,
     "start_time": "2021-09-11T05:41:41.327133",
     "status": "completed"
    },
    "tags": []
   },
   "outputs": [
    {
     "data": {
      "text/plain": [
       "Pipeline(steps=[('columntransformer',\n",
       "                 ColumnTransformer(transformers=[('pipeline-1',\n",
       "                                                  Pipeline(steps=[('simpleimputer',\n",
       "                                                                   SimpleImputer(strategy='median'))]),\n",
       "                                                  ['Pclass', 'Age', 'SibSp',\n",
       "                                                   'Parch', 'Fare',\n",
       "                                                   'FamilySize', 'IsAlone']),\n",
       "                                                 ('pipeline-2',\n",
       "                                                  Pipeline(steps=[('simpleimputer',\n",
       "                                                                   SimpleImputer(fill_value='missing',\n",
       "                                                                                 strategy='constant')),\n",
       "                                                                  ('onehotencoder',\n",
       "                                                                   OneHotEncoder(handle_unknown='ignore'))]),\n",
       "                                                  ['Sex', 'Cabin', 'Embarked',\n",
       "                                                   'Title'])])),\n",
       "                ('randomforestclassifier',\n",
       "                 RandomForestClassifier(n_estimators=200))])"
      ]
     },
     "execution_count": 21,
     "metadata": {},
     "output_type": "execute_result"
    }
   ],
   "source": [
    "model_pipeline.fit(X_train, y_train)"
   ]
  },
  {
   "cell_type": "code",
   "execution_count": 22,
   "metadata": {
    "execution": {
     "iopub.execute_input": "2021-09-11T05:41:41.932747Z",
     "iopub.status.busy": "2021-09-11T05:41:41.930862Z",
     "iopub.status.idle": "2021-09-11T05:41:41.978119Z",
     "shell.execute_reply": "2021-09-11T05:41:41.977044Z",
     "shell.execute_reply.started": "2021-09-11T05:41:12.822340Z"
    },
    "papermill": {
     "duration": 0.078994,
     "end_time": "2021-09-11T05:41:41.978281",
     "exception": false,
     "start_time": "2021-09-11T05:41:41.899287",
     "status": "completed"
    },
    "tags": []
   },
   "outputs": [],
   "source": [
    "X_prediction = model_pipeline.predict(X_train)"
   ]
  },
  {
   "cell_type": "code",
   "execution_count": 23,
   "metadata": {
    "execution": {
     "iopub.execute_input": "2021-09-11T05:41:42.036083Z",
     "iopub.status.busy": "2021-09-11T05:41:42.034315Z",
     "iopub.status.idle": "2021-09-11T05:41:42.082611Z",
     "shell.execute_reply": "2021-09-11T05:41:42.082034Z",
     "shell.execute_reply.started": "2021-09-11T05:41:12.877217Z"
    },
    "papermill": {
     "duration": 0.081962,
     "end_time": "2021-09-11T05:41:42.082756",
     "exception": false,
     "start_time": "2021-09-11T05:41:42.000794",
     "status": "completed"
    },
    "tags": []
   },
   "outputs": [
    {
     "name": "stdout",
     "output_type": "stream",
     "text": [
      "Train : 0.990\n"
     ]
    }
   ],
   "source": [
    "print(f'Train : {model_pipeline.score(X_train, y_train):.3f}')"
   ]
  },
  {
   "cell_type": "code",
   "execution_count": 24,
   "metadata": {
    "execution": {
     "iopub.execute_input": "2021-09-11T05:41:42.141969Z",
     "iopub.status.busy": "2021-09-11T05:41:42.140591Z",
     "iopub.status.idle": "2021-09-11T05:41:42.198201Z",
     "shell.execute_reply": "2021-09-11T05:41:42.198867Z",
     "shell.execute_reply.started": "2021-09-11T05:41:12.932918Z"
    },
    "papermill": {
     "duration": 0.093315,
     "end_time": "2021-09-11T05:41:42.199124",
     "exception": false,
     "start_time": "2021-09-11T05:41:42.105809",
     "status": "completed"
    },
    "tags": []
   },
   "outputs": [
    {
     "name": "stdout",
     "output_type": "stream",
     "text": [
      "Test : 0.817\n"
     ]
    }
   ],
   "source": [
    "print(f'Test : {model_pipeline.score(X_val, y_val):.3f}')"
   ]
  },
  {
   "cell_type": "code",
   "execution_count": 25,
   "metadata": {
    "execution": {
     "iopub.execute_input": "2021-09-11T05:41:42.266097Z",
     "iopub.status.busy": "2021-09-11T05:41:42.265004Z",
     "iopub.status.idle": "2021-09-11T05:41:42.301689Z",
     "shell.execute_reply": "2021-09-11T05:41:42.302252Z",
     "shell.execute_reply.started": "2021-09-11T05:41:12.978674Z"
    },
    "papermill": {
     "duration": 0.075926,
     "end_time": "2021-09-11T05:41:42.302431",
     "exception": false,
     "start_time": "2021-09-11T05:41:42.226505",
     "status": "completed"
    },
    "tags": []
   },
   "outputs": [],
   "source": [
    "submission_prediction = model_pipeline.predict(test.drop(['Name','Ticket'], axis = 1)).astype(int)\n",
    "#"
   ]
  },
  {
   "cell_type": "code",
   "execution_count": 26,
   "metadata": {
    "execution": {
     "iopub.execute_input": "2021-09-11T05:41:42.357476Z",
     "iopub.status.busy": "2021-09-11T05:41:42.356755Z",
     "iopub.status.idle": "2021-09-11T05:41:42.363469Z",
     "shell.execute_reply": "2021-09-11T05:41:42.362805Z",
     "shell.execute_reply.started": "2021-09-11T05:41:13.031046Z"
    },
    "papermill": {
     "duration": 0.036312,
     "end_time": "2021-09-11T05:41:42.363617",
     "exception": false,
     "start_time": "2021-09-11T05:41:42.327305",
     "status": "completed"
    },
    "tags": []
   },
   "outputs": [],
   "source": [
    "AllSub = pd.DataFrame({ 'PassengerId': test['PassengerId'],\n",
    "                       'Survived' : submission_prediction\n",
    "    \n",
    "})\n",
    "\n",
    "AllSub.to_csv(\"Solution_Pipeline_RF_IMproved.csv\", index = False)"
   ]
  }
 ],
 "metadata": {
  "kernelspec": {
   "display_name": "Python 3",
   "language": "python",
   "name": "python3"
  },
  "language_info": {
   "codemirror_mode": {
    "name": "ipython",
    "version": 3
   },
   "file_extension": ".py",
   "mimetype": "text/x-python",
   "name": "python",
   "nbconvert_exporter": "python",
   "pygments_lexer": "ipython3",
   "version": "3.7.9"
  },
  "papermill": {
   "default_parameters": {},
   "duration": 9.850805,
   "end_time": "2021-09-11T05:41:42.997462",
   "environment_variables": {},
   "exception": null,
   "input_path": "__notebook__.ipynb",
   "output_path": "__notebook__.ipynb",
   "parameters": {},
   "start_time": "2021-09-11T05:41:33.146657",
   "version": "2.2.2"
  }
 },
 "nbformat": 4,
 "nbformat_minor": 4
}
